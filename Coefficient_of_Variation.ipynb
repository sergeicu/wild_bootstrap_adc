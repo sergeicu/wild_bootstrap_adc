{
 "cells": [
  {
   "cell_type": "code",
   "execution_count": 1,
   "id": "edc03b26-0c2e-4b3f-a19c-cc48edef56bb",
   "metadata": {},
   "outputs": [],
   "source": [
    "import os \n",
    "import glob"
   ]
  },
  {
   "cell_type": "code",
   "execution_count": 2,
   "id": "9ca32111-5f21-45e8-a78e-ba9b4060c211",
   "metadata": {},
   "outputs": [],
   "source": [
    "import pandas as pd\n",
    "import nibabel as nb \n",
    "import numpy as np "
   ]
  },
  {
   "cell_type": "code",
   "execution_count": 3,
   "id": "f528dc70-5413-4965-b5d0-35204b46f50b",
   "metadata": {},
   "outputs": [],
   "source": [
    "# define paths \n",
    "d=\"output\" \n",
    "base=\"adc_allb_mc__wildbootstrap_iter_\"\n",
    "ext=\".nii.gz\""
   ]
  },
  {
   "cell_type": "code",
   "execution_count": 4,
   "id": "0b552396-0b75-4b33-a36f-36312aca1c81",
   "metadata": {},
   "outputs": [],
   "source": [
    "# get files \n",
    "files = glob.glob(d+\"/\"+base + \"*\")\n",
    "assert files "
   ]
  },
  {
   "cell_type": "code",
   "execution_count": 5,
   "id": "e73c47da-f17b-44ca-bfa9-84ce9ae254d9",
   "metadata": {},
   "outputs": [],
   "source": [
    "# get segmentation (we compute CoV over one kidney) \n",
    "segf = d+\"/seg.nii.gz\"\n",
    "assert os.path.exists(segf)"
   ]
  },
  {
   "cell_type": "code",
   "execution_count": 15,
   "id": "82640b7c-4af0-4086-9151-c4785e26eeff",
   "metadata": {},
   "outputs": [],
   "source": [
    "# get all the labels \n",
    "seg = nb.load(segf).get_fdata()\n",
    "labels = np.unique(seg)\n",
    "labels = [l for l in labels if l!=0]"
   ]
  },
  {
   "cell_type": "code",
   "execution_count": 16,
   "id": "8e48d182-e8ec-4f8d-bd83-6c1aa684796f",
   "metadata": {},
   "outputs": [],
   "source": [
    "# create array to hold pandas dataframes\n",
    "dfs = []"
   ]
  },
  {
   "cell_type": "code",
   "execution_count": 17,
   "id": "c1d10b60-0361-478b-9cd9-e1c435608f9e",
   "metadata": {},
   "outputs": [],
   "source": [
    "# load files in numpy \n",
    "for label in labels:\n",
    "    for i, f in enumerate(sorted(files)): \n",
    "        # load file \n",
    "        im = nb.load(f).get_fdata()\n",
    "    \n",
    "        # select masked area\n",
    "        array = im[seg==label]\n",
    "\n",
    "    \n",
    "        # assign to pandas dataframe \n",
    "        df = pd.DataFrame({'adc':array})\n",
    "        df = df.assign(label=label,iteration=i)\n",
    "        dfs.append(df)\n",
    "    \n",
    "    \n",
    "        "
   ]
  },
  {
   "cell_type": "code",
   "execution_count": 18,
   "id": "6db8fc49-70d9-419f-a275-dc415ab31556",
   "metadata": {},
   "outputs": [],
   "source": [
    "dfs = pd.concat(dfs)"
   ]
  },
  {
   "cell_type": "code",
   "execution_count": 19,
   "id": "86b28d3a-6813-491d-8f45-08bf22040abe",
   "metadata": {},
   "outputs": [
    {
     "data": {
      "text/html": [
       "<div>\n",
       "<style scoped>\n",
       "    .dataframe tbody tr th:only-of-type {\n",
       "        vertical-align: middle;\n",
       "    }\n",
       "\n",
       "    .dataframe tbody tr th {\n",
       "        vertical-align: top;\n",
       "    }\n",
       "\n",
       "    .dataframe thead th {\n",
       "        text-align: right;\n",
       "    }\n",
       "</style>\n",
       "<table border=\"1\" class=\"dataframe\">\n",
       "  <thead>\n",
       "    <tr style=\"text-align: right;\">\n",
       "      <th></th>\n",
       "      <th>adc</th>\n",
       "      <th>label</th>\n",
       "      <th>iteration</th>\n",
       "    </tr>\n",
       "  </thead>\n",
       "  <tbody>\n",
       "    <tr>\n",
       "      <th>0</th>\n",
       "      <td>0.002061</td>\n",
       "      <td>1.0</td>\n",
       "      <td>0</td>\n",
       "    </tr>\n",
       "    <tr>\n",
       "      <th>1</th>\n",
       "      <td>0.002180</td>\n",
       "      <td>1.0</td>\n",
       "      <td>0</td>\n",
       "    </tr>\n",
       "    <tr>\n",
       "      <th>2</th>\n",
       "      <td>0.002195</td>\n",
       "      <td>1.0</td>\n",
       "      <td>0</td>\n",
       "    </tr>\n",
       "    <tr>\n",
       "      <th>3</th>\n",
       "      <td>0.002152</td>\n",
       "      <td>1.0</td>\n",
       "      <td>0</td>\n",
       "    </tr>\n",
       "    <tr>\n",
       "      <th>4</th>\n",
       "      <td>0.002095</td>\n",
       "      <td>1.0</td>\n",
       "      <td>0</td>\n",
       "    </tr>\n",
       "    <tr>\n",
       "      <th>...</th>\n",
       "      <td>...</td>\n",
       "      <td>...</td>\n",
       "      <td>...</td>\n",
       "    </tr>\n",
       "    <tr>\n",
       "      <th>836</th>\n",
       "      <td>0.002108</td>\n",
       "      <td>1.0</td>\n",
       "      <td>11</td>\n",
       "    </tr>\n",
       "    <tr>\n",
       "      <th>837</th>\n",
       "      <td>0.002065</td>\n",
       "      <td>1.0</td>\n",
       "      <td>11</td>\n",
       "    </tr>\n",
       "    <tr>\n",
       "      <th>838</th>\n",
       "      <td>0.001936</td>\n",
       "      <td>1.0</td>\n",
       "      <td>11</td>\n",
       "    </tr>\n",
       "    <tr>\n",
       "      <th>839</th>\n",
       "      <td>0.001964</td>\n",
       "      <td>1.0</td>\n",
       "      <td>11</td>\n",
       "    </tr>\n",
       "    <tr>\n",
       "      <th>840</th>\n",
       "      <td>0.001890</td>\n",
       "      <td>1.0</td>\n",
       "      <td>11</td>\n",
       "    </tr>\n",
       "  </tbody>\n",
       "</table>\n",
       "<p>10092 rows × 3 columns</p>\n",
       "</div>"
      ],
      "text/plain": [
       "          adc  label  iteration\n",
       "0    0.002061    1.0          0\n",
       "1    0.002180    1.0          0\n",
       "2    0.002195    1.0          0\n",
       "3    0.002152    1.0          0\n",
       "4    0.002095    1.0          0\n",
       "..        ...    ...        ...\n",
       "836  0.002108    1.0         11\n",
       "837  0.002065    1.0         11\n",
       "838  0.001936    1.0         11\n",
       "839  0.001964    1.0         11\n",
       "840  0.001890    1.0         11\n",
       "\n",
       "[10092 rows x 3 columns]"
      ]
     },
     "execution_count": 19,
     "metadata": {},
     "output_type": "execute_result"
    }
   ],
   "source": [
    "dfs"
   ]
  },
  {
   "cell_type": "code",
   "execution_count": 24,
   "id": "fe1ca0c3-ee9d-4b9d-a7ca-e46a931df985",
   "metadata": {},
   "outputs": [],
   "source": [
    "# let's compute CoV for each label separately \n",
    "CoV = df.groupby('label').agg(\n",
    "    mean_adc=('adc', 'mean'),\n",
    "    std_adc=('adc', 'std'),\n",
    "    cv_adc=('adc', lambda x: 100*np.std(x, ddof=0) / np.mean(x))\n",
    ").reset_index()\n"
   ]
  },
  {
   "cell_type": "code",
   "execution_count": 25,
   "id": "39a57222-4e35-4d67-9e68-4af14291be80",
   "metadata": {},
   "outputs": [
    {
     "data": {
      "text/html": [
       "<div>\n",
       "<style scoped>\n",
       "    .dataframe tbody tr th:only-of-type {\n",
       "        vertical-align: middle;\n",
       "    }\n",
       "\n",
       "    .dataframe tbody tr th {\n",
       "        vertical-align: top;\n",
       "    }\n",
       "\n",
       "    .dataframe thead th {\n",
       "        text-align: right;\n",
       "    }\n",
       "</style>\n",
       "<table border=\"1\" class=\"dataframe\">\n",
       "  <thead>\n",
       "    <tr style=\"text-align: right;\">\n",
       "      <th></th>\n",
       "      <th>label</th>\n",
       "      <th>mean_adc</th>\n",
       "      <th>std_adc</th>\n",
       "      <th>cv_adc</th>\n",
       "    </tr>\n",
       "  </thead>\n",
       "  <tbody>\n",
       "    <tr>\n",
       "      <th>0</th>\n",
       "      <td>1.0</td>\n",
       "      <td>0.002221</td>\n",
       "      <td>0.000325</td>\n",
       "      <td>14.638096</td>\n",
       "    </tr>\n",
       "  </tbody>\n",
       "</table>\n",
       "</div>"
      ],
      "text/plain": [
       "   label  mean_adc   std_adc     cv_adc\n",
       "0    1.0  0.002221  0.000325  14.638096"
      ]
     },
     "execution_count": 25,
     "metadata": {},
     "output_type": "execute_result"
    }
   ],
   "source": [
    "CoV "
   ]
  },
  {
   "cell_type": "code",
   "execution_count": null,
   "id": "329795fc-b61b-44bf-9ba8-ce5555131e1d",
   "metadata": {},
   "outputs": [],
   "source": []
  }
 ],
 "metadata": {
  "kernelspec": {
   "display_name": "Python (custom env)",
   "language": "python",
   "name": "myenv"
  },
  "language_info": {
   "codemirror_mode": {
    "name": "ipython",
    "version": 3
   },
   "file_extension": ".py",
   "mimetype": "text/x-python",
   "name": "python",
   "nbconvert_exporter": "python",
   "pygments_lexer": "ipython3",
   "version": "3.11.4"
  }
 },
 "nbformat": 4,
 "nbformat_minor": 5
}
